{
 "cells": [
  {
   "cell_type": "code",
   "execution_count": null,
   "metadata": {},
   "outputs": [],
   "source": [
    "directory = []\n",
    "\n",
    "def buy_not_buy(maybe):\n",
    "    return directory.append([age,n_child,maybe])\n",
    "\n",
    "from random import randrange as r\n",
    "start = 1\n",
    "while start <= 9231:\n",
    "    age = r(25,81)\n",
    "    if age >= 25 and age <=35:\n",
    "        n_child = r(0,2)\n",
    "        n_chance = 1 \n",
    "        if r(1,7) == n_chance:\n",
    "            buy_not_buy(1)\n",
    "        else:\n",
    "            buy_not_buy(0)\n",
    "    elif age >= 36 and age <=50:\n",
    "        n_child = r(0,5)\n",
    "        if n_child >= 3 and n_child <= 5:\n",
    "            n_chance = 4\n",
    "            if r(1,7) <= n_chance:\n",
    "                buy_not_buy(1)\n",
    "            else:\n",
    "                buy_not_buy(0)\n",
    "        elif n_child < 3:\n",
    "            n_chance = 3\n",
    "            if r(1,7) <= n_chance:\n",
    "                buy_not_buy(1)\n",
    "            else:\n",
    "                buy_not_buy(0)\n",
    "    elif age >= 51 and age <=80:\n",
    "        n_child = r(2,7)\n",
    "        if n_child >= 2 and n_child <= 5:\n",
    "            n_chance = 5\n",
    "            if r(1,7) <= n_chance:\n",
    "                buy_not_buy(1)\n",
    "            else:\n",
    "                buy_not_buy(0)\n",
    "        elif n_child > 5:\n",
    "            n_chance = 6\n",
    "            buy_not_buy(1)\n",
    "            \n",
    "    start += 1"
   ]
  }
 ],
 "metadata": {
  "kernelspec": {
   "display_name": "Python 3",
   "language": "python",
   "name": "python3"
  },
  "language_info": {
   "codemirror_mode": {
    "name": "ipython",
    "version": 3
   },
   "file_extension": ".py",
   "mimetype": "text/x-python",
   "name": "python",
   "nbconvert_exporter": "python",
   "pygments_lexer": "ipython3",
   "version": "3.8.3"
  }
 },
 "nbformat": 4,
 "nbformat_minor": 4
}
